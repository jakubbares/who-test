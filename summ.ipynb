{
 "cells": [
  {
   "cell_type": "code",
   "execution_count": 1,
   "metadata": {},
   "outputs": [],
   "source": [
    "text = \"\"\"Thank you, Madam Co Chair.\n",
    "Recognized: Burkina Faso welcomes the convening of this 12th session of the INB.\n",
    "Recognized: It's an indelible demonstration of our common determination to pursue our efforts in order to better tackle pandemics in future. I'd like to take this opportunity to congratulate the Bureau and all of the Co chairs for their commitment.\n",
    "Recognized: My delegation aligns with the statement read by the Republic of Tanzania on behalf of the members of the African Group plus Egypt.\n",
    "Recognized: Burkina Faso is one of the countries who placed great hopes in the creation of this negotiating body during the second extraordinary session of the World Health Assembly.\n",
    "Recognized: This legitimate hope was based on its mandate, which emphasized the need to bridge gaps that were observed during the COVID-19 pandemic.\n",
    "Recognized: And advocated unhindered, rapid and equitable access to medical countermeasures, as well as the strengthening of health systems and the development of their resilience in order to achieve universal health coverage.\n",
    "Recognized: I would also like to remind you that in line with this mandate, priority should be placed on equity.\n",
    "Recognized: And guided by the principle of solidarity with all people and all countries.\n",
    "Recognized: This session is taking place just ahead of the deadline of December 2024, established by the Ministers of Health and there is therefore critical, it reminds us of our responsibilities.\n",
    "Recognized: In this situation, we must not sacrifice, due to the urgency that this deadline creates, the need to have an legal instrument with effective normative content in order to face future pandemics.\n",
    "Recognized: Mindful of this reality, my delegation, in line with the prescriptions of the IMBS mandate, considers that the system for access to pathogen access and benefit sharing is at the heart of the pandemic agreement.\n",
    "Recognized: On this basis, we are deeply attached to the normative nature of the provisions on this subject, with a view to creating a comprehensive, equitable and justice system of pathogen access and benefit sharing.\n",
    "Recognized: In this period, the provisions related to the operationalization of this should be annexed to the Basic Agreement and be an essential part of it.\n",
    "Info: on_underlying_io_bytes_received: Close frame received\"\"\""
   ]
  },
  {
   "cell_type": "code",
   "execution_count": 2,
   "metadata": {},
   "outputs": [
    {
     "ename": "ModuleNotFoundError",
     "evalue": "No module named 'langchain_openai'",
     "output_type": "error",
     "traceback": [
      "\u001b[0;31m---------------------------------------------------------------------------\u001b[0m",
      "\u001b[0;31mModuleNotFoundError\u001b[0m                       Traceback (most recent call last)",
      "Cell \u001b[0;32mIn[2], line 1\u001b[0m\n\u001b[0;32m----> 1\u001b[0m \u001b[38;5;28;01mfrom\u001b[39;00m \u001b[38;5;21;01mlangchain_openai\u001b[39;00m \u001b[38;5;28;01mimport\u001b[39;00m ChatOpenAI\n\u001b[1;32m      2\u001b[0m \u001b[38;5;28;01mfrom\u001b[39;00m \u001b[38;5;21;01mlangchain_core\u001b[39;00m\u001b[38;5;21;01m.\u001b[39;00m\u001b[38;5;21;01mprompts\u001b[39;00m \u001b[38;5;28;01mimport\u001b[39;00m ChatPromptTemplate\n\u001b[1;32m      3\u001b[0m \u001b[38;5;28;01mfrom\u001b[39;00m \u001b[38;5;21;01mlangchain_core\u001b[39;00m\u001b[38;5;21;01m.\u001b[39;00m\u001b[38;5;21;01moutput_parsers\u001b[39;00m \u001b[38;5;28;01mimport\u001b[39;00m StrOutputParser\n",
      "\u001b[0;31mModuleNotFoundError\u001b[0m: No module named 'langchain_openai'"
     ]
    }
   ],
   "source": [
    "from langchain_openai import ChatOpenAI\n",
    "from langchain_core.prompts import ChatPromptTemplate\n",
    "from langchain_core.output_parsers import StrOutputParser\n",
    "from langchain_openai import OpenAIEmbeddings\n",
    "from typing import List\n",
    "import os\n",
    "from langchain.output_parsers import PydanticOutputParser\n",
    "from langchain.prompts import PromptTemplate\n",
    "from pydantic import BaseModel, Field, validator\n",
    "from langchain_openai import ChatOpenAI\n",
    "from dotenv import load_dotenv\n",
    "\n",
    "from langchain_community.callbacks.infino_callback import get_num_tokens\n",
    "from langchain_openai import ChatOpenAI, AzureOpenAI, AzureChatOpenAI\n",
    "from langchain.output_parsers import PydanticOutputParser\n",
    "from langchain.prompts import PromptTemplate\n",
    "from dotenv import load_dotenv\n",
    "\n",
    "load_dotenv()\n",
    "\n",
    "\n",
    "openai_key = os.getenv(\"AZURE_OPENAI_KEY\")\n",
    "openai_api_version = os.getenv(\"AZURE_OPENAI_API_VERSION\")\n",
    "\n",
    "print(openai_key, openai_api_version)\n",
    "\n",
    "class Summary(BaseModel):\n",
    "    summary: str = Field(description=\"Summary of the speech\")\n",
    "\n",
    "class Summarizer:\n",
    "    model = AzureChatOpenAI(deployment_name=\"gpt-4o-mini\", api_key=openai_key, api_version=openai_api_version)\n",
    "    parser = PydanticOutputParser(pydantic_object=Summary)\n",
    "    prompt = PromptTemplate(\n",
    "        template=\"\"\"You are supposed to return a summary with bullet points of the key points made during the speech\n",
    "                Focus on actual propositions, agreements, factual claims, etc.\n",
    "                \\n{format_instructions}\\n{transcript}\\n\"\"\",\n",
    "        input_variables=[\"transcript\"],\n",
    "        partial_variables={\"format_instructions\": parser.get_format_instructions()},\n",
    "    )\n",
    "    chain = prompt | model | parser\n",
    "    def invoke(self, transcript):\n",
    "        return self.chain.invoke({\"transcript\": transcript})\n",
    "    \n",
    "Summarizer().invoke(transcript=text)    \n",
    "\n",
    "\n"
   ]
  }
 ],
 "metadata": {
  "kernelspec": {
   "display_name": "who_env",
   "language": "python",
   "name": "python3"
  },
  "language_info": {
   "codemirror_mode": {
    "name": "ipython",
    "version": 3
   },
   "file_extension": ".py",
   "mimetype": "text/x-python",
   "name": "python",
   "nbconvert_exporter": "python",
   "pygments_lexer": "ipython3",
   "version": "3.9.20"
  }
 },
 "nbformat": 4,
 "nbformat_minor": 2
}
