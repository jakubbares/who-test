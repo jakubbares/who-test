{
 "cells": [
  {
   "cell_type": "code",
   "execution_count": 19,
   "metadata": {},
   "outputs": [
    {
     "ename": "",
     "evalue": "",
     "output_type": "error",
     "traceback": [
      "\u001b[1;31mFailed to start the Kernel. \n",
      "\u001b[1;31mThe Jupyter notebook server failed to launch in time. \n",
      "\u001b[1;31mView Jupyter <a href='command:jupyter.viewOutput'>log</a> for further details."
     ]
    }
   ],
   "source": [
    "\n",
    "def real_time_speech_to_text(device_id):\n",
    "    # Set up the subscription info\n",
    "    subscription_key = \"ccf9c92017b24dcc9f8873769a2e527c\"\n",
    "    service_region = \"eastus\"\n",
    "\n",
    "    # Create a Speech Config instance\n",
    "    speech_config = speechsdk.SpeechConfig(subscription=subscription_key, region=service_region)\n",
    "    speech_config.speech_recognition_language = \"en-US\"  # Set the language to English, adjust if needed\n",
    "\n",
    "    # Configure audio input directly by device ID (device_index)\n",
    "    audio_config = speechsdk.audio.AudioConfig(device_name=device_id)\n",
    "\n",
    "    # Create the recognizer with the specified audio input device\n",
    "    speech_recognizer = speechsdk.SpeechRecognizer(speech_config=speech_config, audio_config=audio_config)\n",
    "\n",
    "    # Define a function to handle recognition results\n",
    "    def handle_result(evt):\n",
    "        print(f\"Recognized: {evt.result.text}\")\n",
    "\n",
    "    # Connect event handler for recognized speech\n",
    "    speech_recognizer.recognized.connect(handle_result)\n",
    "\n",
    "    # Start continuous recognition\n",
    "    print(\"Listening and recognizing...\")\n",
    "    speech_recognizer.start_continuous_recognition()\n",
    "\n",
    "    # Keep the program running to listen to audio\n",
    "    try:\n",
    "        while True:\n",
    "            pass  # Run until manually stopped\n",
    "    except KeyboardInterrupt:\n",
    "        # Stop recognition on exit\n",
    "        print(\"\\nStopping real-time speech recognition...\")\n",
    "        speech_recognizer.stop_continuous_recognition()\n",
    "\n"
   ]
  },
  {
   "cell_type": "code",
   "execution_count": null,
   "metadata": {},
   "outputs": [],
   "source": [
    "\n",
    "\n",
    "real_time_speech_to_text(device_id=\"com.vbaudio.vbcable:B6E6D02E-CD32-4C95-B60B-2FC2621CA4E0\")"
   ]
  }
 ],
 "metadata": {
  "kernelspec": {
   "display_name": "WHO_AI-Z5XsX34I",
   "language": "python",
   "name": "python3"
  },
  "language_info": {
   "codemirror_mode": {
    "name": "ipython",
    "version": 3
   },
   "file_extension": ".py",
   "mimetype": "text/x-python",
   "name": "python",
   "nbconvert_exporter": "python",
   "pygments_lexer": "ipython3",
   "version": "3.9.20"
  }
 },
 "nbformat": 4,
 "nbformat_minor": 2
}
